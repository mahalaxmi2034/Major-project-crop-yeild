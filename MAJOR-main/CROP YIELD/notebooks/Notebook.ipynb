{
  "cells": [
    {
      "cell_type": "markdown",
      "metadata": {
        "id": "YwG9mikPZ-aQ"
      },
      "source": [
        "# Crop Yield Prediction using ML"
      ]
    },
    {
      "cell_type": "markdown",
      "metadata": {
        "id": "4zwqgN0NZ-aS"
      },
      "source": [
        "# Package Importing"
      ]
    },
    {
      "cell_type": "code",
      "execution_count": null,
      "metadata": {
        "id": "kPuyKMF5Z-aS"
      },
      "outputs": [],
      "source": [
        "import os\n",
        "import numpy as np\n",
        "import pandas as pd\n",
        "import matplotlib.pyplot as plt\n",
        "from sklearn.utils import resample\n",
        "import joblib\n",
        "import warnings\n",
        "%matplotlib inline"
      ]
    },
    {
      "cell_type": "markdown",
      "metadata": {
        "id": "PtK9o8l6Z-aU"
      },
      "source": [
        "# Data Exploration"
      ]
    },
    {
      "cell_type": "code",
      "execution_count": null,
      "metadata": {
        "colab": {
          "base_uri": "https://localhost:8080/"
        },
        "id": "_qk8_2ybdL5A",
        "outputId": "f0cf56ca-06cf-4d43-87b0-131b3df0f8a9"
      },
      "outputs": [
        {
          "output_type": "stream",
          "name": "stdout",
          "text": [
            "Drive already mounted at /content/drive; to attempt to forcibly remount, call drive.mount(\"/content/drive\", force_remount=True).\n"
          ]
        }
      ],
      "source": [
        "from google.colab import drive\n",
        "drive.mount('/content/drive')"
      ]
    },
    {
      "cell_type": "code",
      "execution_count": null,
      "metadata": {
        "colab": {
          "base_uri": "https://localhost:8080/",
          "height": 206
        },
        "id": "pdfau51gZ-aU",
        "outputId": "983cdb77-7ddb-4baa-b22c-f810e4495cee"
      },
      "outputs": [
        {
          "output_type": "execute_result",
          "data": {
            "text/plain": [
              "              District_Name  Season  Yield_Production Crop  Yield_Remarks\n",
              "0  NORTH AND MIDDLE ANDAMAN    Rabi              90.8  Tur              1\n",
              "1            SOUTH ANDAMANS    Rabi              13.2  Tur              1\n",
              "2                 ANANTAPUR  Kharif            2600.0  Tur              1\n",
              "3                 ANANTAPUR  Kharif            9100.0  Tur              1\n",
              "4                 ANANTAPUR  Kharif            7888.0  Tur              1"
            ],
            "text/html": [
              "\n",
              "  <div id=\"df-3fb576a8-bd58-481d-a3db-77d92a08df37\" class=\"colab-df-container\">\n",
              "    <div>\n",
              "<style scoped>\n",
              "    .dataframe tbody tr th:only-of-type {\n",
              "        vertical-align: middle;\n",
              "    }\n",
              "\n",
              "    .dataframe tbody tr th {\n",
              "        vertical-align: top;\n",
              "    }\n",
              "\n",
              "    .dataframe thead th {\n",
              "        text-align: right;\n",
              "    }\n",
              "</style>\n",
              "<table border=\"1\" class=\"dataframe\">\n",
              "  <thead>\n",
              "    <tr style=\"text-align: right;\">\n",
              "      <th></th>\n",
              "      <th>District_Name</th>\n",
              "      <th>Season</th>\n",
              "      <th>Yield_Production</th>\n",
              "      <th>Crop</th>\n",
              "      <th>Yield_Remarks</th>\n",
              "    </tr>\n",
              "  </thead>\n",
              "  <tbody>\n",
              "    <tr>\n",
              "      <th>0</th>\n",
              "      <td>NORTH AND MIDDLE ANDAMAN</td>\n",
              "      <td>Rabi</td>\n",
              "      <td>90.8</td>\n",
              "      <td>Tur</td>\n",
              "      <td>1</td>\n",
              "    </tr>\n",
              "    <tr>\n",
              "      <th>1</th>\n",
              "      <td>SOUTH ANDAMANS</td>\n",
              "      <td>Rabi</td>\n",
              "      <td>13.2</td>\n",
              "      <td>Tur</td>\n",
              "      <td>1</td>\n",
              "    </tr>\n",
              "    <tr>\n",
              "      <th>2</th>\n",
              "      <td>ANANTAPUR</td>\n",
              "      <td>Kharif</td>\n",
              "      <td>2600.0</td>\n",
              "      <td>Tur</td>\n",
              "      <td>1</td>\n",
              "    </tr>\n",
              "    <tr>\n",
              "      <th>3</th>\n",
              "      <td>ANANTAPUR</td>\n",
              "      <td>Kharif</td>\n",
              "      <td>9100.0</td>\n",
              "      <td>Tur</td>\n",
              "      <td>1</td>\n",
              "    </tr>\n",
              "    <tr>\n",
              "      <th>4</th>\n",
              "      <td>ANANTAPUR</td>\n",
              "      <td>Kharif</td>\n",
              "      <td>7888.0</td>\n",
              "      <td>Tur</td>\n",
              "      <td>1</td>\n",
              "    </tr>\n",
              "  </tbody>\n",
              "</table>\n",
              "</div>\n",
              "    <div class=\"colab-df-buttons\">\n",
              "\n",
              "  <div class=\"colab-df-container\">\n",
              "    <button class=\"colab-df-convert\" onclick=\"convertToInteractive('df-3fb576a8-bd58-481d-a3db-77d92a08df37')\"\n",
              "            title=\"Convert this dataframe to an interactive table.\"\n",
              "            style=\"display:none;\">\n",
              "\n",
              "  <svg xmlns=\"http://www.w3.org/2000/svg\" height=\"24px\" viewBox=\"0 -960 960 960\">\n",
              "    <path d=\"M120-120v-720h720v720H120Zm60-500h600v-160H180v160Zm220 220h160v-160H400v160Zm0 220h160v-160H400v160ZM180-400h160v-160H180v160Zm440 0h160v-160H620v160ZM180-180h160v-160H180v160Zm440 0h160v-160H620v160Z\"/>\n",
              "  </svg>\n",
              "    </button>\n",
              "\n",
              "  <style>\n",
              "    .colab-df-container {\n",
              "      display:flex;\n",
              "      gap: 12px;\n",
              "    }\n",
              "\n",
              "    .colab-df-convert {\n",
              "      background-color: #E8F0FE;\n",
              "      border: none;\n",
              "      border-radius: 50%;\n",
              "      cursor: pointer;\n",
              "      display: none;\n",
              "      fill: #1967D2;\n",
              "      height: 32px;\n",
              "      padding: 0 0 0 0;\n",
              "      width: 32px;\n",
              "    }\n",
              "\n",
              "    .colab-df-convert:hover {\n",
              "      background-color: #E2EBFA;\n",
              "      box-shadow: 0px 1px 2px rgba(60, 64, 67, 0.3), 0px 1px 3px 1px rgba(60, 64, 67, 0.15);\n",
              "      fill: #174EA6;\n",
              "    }\n",
              "\n",
              "    .colab-df-buttons div {\n",
              "      margin-bottom: 4px;\n",
              "    }\n",
              "\n",
              "    [theme=dark] .colab-df-convert {\n",
              "      background-color: #3B4455;\n",
              "      fill: #D2E3FC;\n",
              "    }\n",
              "\n",
              "    [theme=dark] .colab-df-convert:hover {\n",
              "      background-color: #434B5C;\n",
              "      box-shadow: 0px 1px 3px 1px rgba(0, 0, 0, 0.15);\n",
              "      filter: drop-shadow(0px 1px 2px rgba(0, 0, 0, 0.3));\n",
              "      fill: #FFFFFF;\n",
              "    }\n",
              "  </style>\n",
              "\n",
              "    <script>\n",
              "      const buttonEl =\n",
              "        document.querySelector('#df-3fb576a8-bd58-481d-a3db-77d92a08df37 button.colab-df-convert');\n",
              "      buttonEl.style.display =\n",
              "        google.colab.kernel.accessAllowed ? 'block' : 'none';\n",
              "\n",
              "      async function convertToInteractive(key) {\n",
              "        const element = document.querySelector('#df-3fb576a8-bd58-481d-a3db-77d92a08df37');\n",
              "        const dataTable =\n",
              "          await google.colab.kernel.invokeFunction('convertToInteractive',\n",
              "                                                    [key], {});\n",
              "        if (!dataTable) return;\n",
              "\n",
              "        const docLinkHtml = 'Like what you see? Visit the ' +\n",
              "          '<a target=\"_blank\" href=https://colab.research.google.com/notebooks/data_table.ipynb>data table notebook</a>'\n",
              "          + ' to learn more about interactive tables.';\n",
              "        element.innerHTML = '';\n",
              "        dataTable['output_type'] = 'display_data';\n",
              "        await google.colab.output.renderOutput(dataTable, element);\n",
              "        const docLink = document.createElement('div');\n",
              "        docLink.innerHTML = docLinkHtml;\n",
              "        element.appendChild(docLink);\n",
              "      }\n",
              "    </script>\n",
              "  </div>\n",
              "\n",
              "\n",
              "<div id=\"df-98d24956-7619-4b94-af82-c9361db4b447\">\n",
              "  <button class=\"colab-df-quickchart\" onclick=\"quickchart('df-98d24956-7619-4b94-af82-c9361db4b447')\"\n",
              "            title=\"Suggest charts\"\n",
              "            style=\"display:none;\">\n",
              "\n",
              "<svg xmlns=\"http://www.w3.org/2000/svg\" height=\"24px\"viewBox=\"0 0 24 24\"\n",
              "     width=\"24px\">\n",
              "    <g>\n",
              "        <path d=\"M19 3H5c-1.1 0-2 .9-2 2v14c0 1.1.9 2 2 2h14c1.1 0 2-.9 2-2V5c0-1.1-.9-2-2-2zM9 17H7v-7h2v7zm4 0h-2V7h2v10zm4 0h-2v-4h2v4z\"/>\n",
              "    </g>\n",
              "</svg>\n",
              "  </button>\n",
              "\n",
              "<style>\n",
              "  .colab-df-quickchart {\n",
              "      --bg-color: #E8F0FE;\n",
              "      --fill-color: #1967D2;\n",
              "      --hover-bg-color: #E2EBFA;\n",
              "      --hover-fill-color: #174EA6;\n",
              "      --disabled-fill-color: #AAA;\n",
              "      --disabled-bg-color: #DDD;\n",
              "  }\n",
              "\n",
              "  [theme=dark] .colab-df-quickchart {\n",
              "      --bg-color: #3B4455;\n",
              "      --fill-color: #D2E3FC;\n",
              "      --hover-bg-color: #434B5C;\n",
              "      --hover-fill-color: #FFFFFF;\n",
              "      --disabled-bg-color: #3B4455;\n",
              "      --disabled-fill-color: #666;\n",
              "  }\n",
              "\n",
              "  .colab-df-quickchart {\n",
              "    background-color: var(--bg-color);\n",
              "    border: none;\n",
              "    border-radius: 50%;\n",
              "    cursor: pointer;\n",
              "    display: none;\n",
              "    fill: var(--fill-color);\n",
              "    height: 32px;\n",
              "    padding: 0;\n",
              "    width: 32px;\n",
              "  }\n",
              "\n",
              "  .colab-df-quickchart:hover {\n",
              "    background-color: var(--hover-bg-color);\n",
              "    box-shadow: 0 1px 2px rgba(60, 64, 67, 0.3), 0 1px 3px 1px rgba(60, 64, 67, 0.15);\n",
              "    fill: var(--button-hover-fill-color);\n",
              "  }\n",
              "\n",
              "  .colab-df-quickchart-complete:disabled,\n",
              "  .colab-df-quickchart-complete:disabled:hover {\n",
              "    background-color: var(--disabled-bg-color);\n",
              "    fill: var(--disabled-fill-color);\n",
              "    box-shadow: none;\n",
              "  }\n",
              "\n",
              "  .colab-df-spinner {\n",
              "    border: 2px solid var(--fill-color);\n",
              "    border-color: transparent;\n",
              "    border-bottom-color: var(--fill-color);\n",
              "    animation:\n",
              "      spin 1s steps(1) infinite;\n",
              "  }\n",
              "\n",
              "  @keyframes spin {\n",
              "    0% {\n",
              "      border-color: transparent;\n",
              "      border-bottom-color: var(--fill-color);\n",
              "      border-left-color: var(--fill-color);\n",
              "    }\n",
              "    20% {\n",
              "      border-color: transparent;\n",
              "      border-left-color: var(--fill-color);\n",
              "      border-top-color: var(--fill-color);\n",
              "    }\n",
              "    30% {\n",
              "      border-color: transparent;\n",
              "      border-left-color: var(--fill-color);\n",
              "      border-top-color: var(--fill-color);\n",
              "      border-right-color: var(--fill-color);\n",
              "    }\n",
              "    40% {\n",
              "      border-color: transparent;\n",
              "      border-right-color: var(--fill-color);\n",
              "      border-top-color: var(--fill-color);\n",
              "    }\n",
              "    60% {\n",
              "      border-color: transparent;\n",
              "      border-right-color: var(--fill-color);\n",
              "    }\n",
              "    80% {\n",
              "      border-color: transparent;\n",
              "      border-right-color: var(--fill-color);\n",
              "      border-bottom-color: var(--fill-color);\n",
              "    }\n",
              "    90% {\n",
              "      border-color: transparent;\n",
              "      border-bottom-color: var(--fill-color);\n",
              "    }\n",
              "  }\n",
              "</style>\n",
              "\n",
              "  <script>\n",
              "    async function quickchart(key) {\n",
              "      const quickchartButtonEl =\n",
              "        document.querySelector('#' + key + ' button');\n",
              "      quickchartButtonEl.disabled = true;  // To prevent multiple clicks.\n",
              "      quickchartButtonEl.classList.add('colab-df-spinner');\n",
              "      try {\n",
              "        const charts = await google.colab.kernel.invokeFunction(\n",
              "            'suggestCharts', [key], {});\n",
              "      } catch (error) {\n",
              "        console.error('Error during call to suggestCharts:', error);\n",
              "      }\n",
              "      quickchartButtonEl.classList.remove('colab-df-spinner');\n",
              "      quickchartButtonEl.classList.add('colab-df-quickchart-complete');\n",
              "    }\n",
              "    (() => {\n",
              "      let quickchartButtonEl =\n",
              "        document.querySelector('#df-98d24956-7619-4b94-af82-c9361db4b447 button');\n",
              "      quickchartButtonEl.style.display =\n",
              "        google.colab.kernel.accessAllowed ? 'block' : 'none';\n",
              "    })();\n",
              "  </script>\n",
              "</div>\n",
              "    </div>\n",
              "  </div>\n"
            ],
            "application/vnd.google.colaboratory.intrinsic+json": {
              "type": "dataframe",
              "variable_name": "df"
            }
          },
          "metadata": {},
          "execution_count": 36
        }
      ],
      "source": [
        "df = pd.read_csv(\"/content/drive/MyDrive/MAJOR PROJECT/DATASET/data.csv\")\n",
        "df.head(5)"
      ]
    },
    {
      "cell_type": "markdown",
      "metadata": {
        "id": "Nr5mGDkYZ-aV"
      },
      "source": [
        "# Preprocessing"
      ]
    },
    {
      "cell_type": "code",
      "execution_count": null,
      "metadata": {
        "colab": {
          "base_uri": "https://localhost:8080/"
        },
        "id": "qH9JMrZVZ-aV",
        "outputId": "d7712e0c-83b5-438d-85f9-5cbb831817ba"
      },
      "outputs": [
        {
          "output_type": "stream",
          "name": "stdout",
          "text": [
            "District_Name          0\n",
            "Season                 0\n",
            "Yield_Production    1526\n",
            "Crop                   0\n",
            "Yield_Remarks          0\n",
            "dtype: int64\n"
          ]
        }
      ],
      "source": [
        "missing_data = df.isnull().sum()\n",
        "print(missing_data)"
      ]
    },
    {
      "cell_type": "code",
      "execution_count": null,
      "metadata": {
        "id": "gKqAkUy3Z-aV"
      },
      "outputs": [],
      "source": [
        "df['Yield_Production'].fillna((df['Yield_Production'].mean()), inplace=True)"
      ]
    },
    {
      "cell_type": "code",
      "execution_count": null,
      "metadata": {
        "colab": {
          "base_uri": "https://localhost:8080/"
        },
        "id": "QKGowi53Z-aV",
        "outputId": "12a6a174-e52b-403e-cfaa-b77a717c4c69"
      },
      "outputs": [
        {
          "output_type": "stream",
          "name": "stdout",
          "text": [
            "District_Name       0\n",
            "Season              0\n",
            "Yield_Production    0\n",
            "Crop                0\n",
            "Yield_Remarks       0\n",
            "dtype: int64\n"
          ]
        }
      ],
      "source": [
        "missing_data = df.isnull().sum()\n",
        "print(missing_data)"
      ]
    },
    {
      "cell_type": "markdown",
      "metadata": {
        "id": "ceskRZZUZ-aW"
      },
      "source": [
        "# Visualization"
      ]
    },
    {
      "cell_type": "code",
      "execution_count": null,
      "metadata": {
        "colab": {
          "base_uri": "https://localhost:8080/",
          "height": 467
        },
        "id": "6EGUh7ELZ-aW",
        "outputId": "eac62f20-f7c2-4f9d-f14b-6d28cf13afd7"
      },
      "outputs": [
        {
          "output_type": "execute_result",
          "data": {
            "text/plain": [
              "<Axes: xlabel='Yield_Remarks', ylabel='count'>"
            ]
          },
          "metadata": {},
          "execution_count": 40
        },
        {
          "output_type": "display_data",
          "data": {
            "text/plain": [
              "<Figure size 640x480 with 1 Axes>"
            ],
            "image/png": "[encoded data removed]"
          },
          "metadata": {}
        }
      ],
      "source": [
        "import seaborn as sns\n",
        "sns.countplot(x=\"Yield_Remarks\", data = df)"
      ]
    },
    {
      "cell_type": "code",
      "execution_count": null,
      "metadata": {
        "colab": {
          "base_uri": "https://localhost:8080/",
          "height": 466
        },
        "id": "XklN-WkJZ-aW",
        "outputId": "1c1ac12a-d431-496c-875b-a6e064665bb9"
      },
      "outputs": [
        {
          "output_type": "execute_result",
          "data": {
            "text/plain": [
              "<Axes: xlabel='Season', ylabel='count'>"
            ]
          },
          "metadata": {},
          "execution_count": 41
        },
        {
          "output_type": "display_data",
          "data": {
            "text/plain": [
              "<Figure size 640x480 with 1 Axes>"
            ],
            "image/png": "[encoded data removed]"
          },
          "metadata": {}
        }
      ],
      "source": [
        "import seaborn as sns\n",
        "sns.countplot(x=\"Season\", data = df)"
      ]
    },
    {
      "cell_type": "code",
      "execution_count": null,
      "metadata": {
        "colab": {
          "base_uri": "https://localhost:8080/",
          "height": 466
        },
        "id": "znyxTwDUZ-aW",
        "outputId": "1bcd1137-f31e-4e07-f6f6-4d04704ecadf"
      },
      "outputs": [
        {
          "output_type": "execute_result",
          "data": {
            "text/plain": [
              "<Axes: xlabel='Crop', ylabel='count'>"
            ]
          },
          "metadata": {},
          "execution_count": 42
        },
        {
          "output_type": "display_data",
          "data": {
            "text/plain": [
              "<Figure size 640x480 with 1 Axes>"
            ],
            "image/png": "[encoded data removed]"
          },
          "metadata": {}
        }
      ],
      "source": [
        "import seaborn as sns\n",
        "sns.countplot(x=\"Crop\", data = df)"
      ]
    },
    {
      "cell_type": "markdown",
      "metadata": {
        "id": "axBc_5iJZ-aX"
      },
      "source": [
        "# Data Cleaning"
      ]
    },
    {
      "cell_type": "code",
      "execution_count": null,
      "metadata": {
        "colab": {
          "base_uri": "https://localhost:8080/",
          "height": 300
        },
        "id": "k_08x3zQZ-aX",
        "outputId": "a94de889-6d32-498a-f449-589be324e639"
      },
      "outputs": [
        {
          "output_type": "execute_result",
          "data": {
            "text/plain": [
              "       Yield_Production  Yield_Remarks\n",
              "count      1.249690e+05  124969.000000\n",
              "mean       1.131667e+06       0.585897\n",
              "std        2.375319e+07       0.492568\n",
              "min        0.000000e+00       0.000000\n",
              "25%        1.350000e+02       0.000000\n",
              "50%        1.600000e+03       1.000000\n",
              "75%        2.007700e+04       1.000000\n",
              "max        1.250800e+09       1.000000"
            ],
            "text/html": [
              "\n",
              "  <div id=\"df-b8914dce-a7ce-4e47-ac35-f10614ac72ba\" class=\"colab-df-container\">\n",
              "    <div>\n",
              "<style scoped>\n",
              "    .dataframe tbody tr th:only-of-type {\n",
              "        vertical-align: middle;\n",
              "    }\n",
              "\n",
              "    .dataframe tbody tr th {\n",
              "        vertical-align: top;\n",
              "    }\n",
              "\n",
              "    .dataframe thead th {\n",
              "        text-align: right;\n",
              "    }\n",
              "</style>\n",
              "<table border=\"1\" class=\"dataframe\">\n",
              "  <thead>\n",
              "    <tr style=\"text-align: right;\">\n",
              "      <th></th>\n",
              "      <th>Yield_Production</th>\n",
              "      <th>Yield_Remarks</th>\n",
              "    </tr>\n",
              "  </thead>\n",
              "  <tbody>\n",
              "    <tr>\n",
              "      <th>count</th>\n",
              "      <td>1.249690e+05</td>\n",
              "      <td>124969.000000</td>\n",
              "    </tr>\n",
              "    <tr>\n",
              "      <th>mean</th>\n",
              "      <td>1.131667e+06</td>\n",
              "      <td>0.585897</td>\n",
              "    </tr>\n",
              "    <tr>\n",
              "      <th>std</th>\n",
              "      <td>2.375319e+07</td>\n",
              "      <td>0.492568</td>\n",
              "    </tr>\n",
              "    <tr>\n",
              "      <th>min</th>\n",
              "      <td>0.000000e+00</td>\n",
              "      <td>0.000000</td>\n",
              "    </tr>\n",
              "    <tr>\n",
              "      <th>25%</th>\n",
              "      <td>1.350000e+02</td>\n",
              "      <td>0.000000</td>\n",
              "    </tr>\n",
              "    <tr>\n",
              "      <th>50%</th>\n",
              "      <td>1.600000e+03</td>\n",
              "      <td>1.000000</td>\n",
              "    </tr>\n",
              "    <tr>\n",
              "      <th>75%</th>\n",
              "      <td>2.007700e+04</td>\n",
              "      <td>1.000000</td>\n",
              "    </tr>\n",
              "    <tr>\n",
              "      <th>max</th>\n",
              "      <td>1.250800e+09</td>\n",
              "      <td>1.000000</td>\n",
              "    </tr>\n",
              "  </tbody>\n",
              "</table>\n",
              "</div>\n",
              "    <div class=\"colab-df-buttons\">\n",
              "\n",
              "  <div class=\"colab-df-container\">\n",
              "    <button class=\"colab-df-convert\" onclick=\"convertToInteractive('df-b8914dce-a7ce-4e47-ac35-f10614ac72ba')\"\n",
              "            title=\"Convert this dataframe to an interactive table.\"\n",
              "            style=\"display:none;\">\n",
              "\n",
              "  <svg xmlns=\"http://www.w3.org/2000/svg\" height=\"24px\" viewBox=\"0 -960 960 960\">\n",
              "    <path d=\"M120-120v-720h720v720H120Zm60-500h600v-160H180v160Zm220 220h160v-160H400v160Zm0 220h160v-160H400v160ZM180-400h160v-160H180v160Zm440 0h160v-160H620v160ZM180-180h160v-160H180v160Zm440 0h160v-160H620v160Z\"/>\n",
              "  </svg>\n",
              "    </button>\n",
              "\n",
              "  <style>\n",
              "    .colab-df-container {\n",
              "      display:flex;\n",
              "      gap: 12px;\n",
              "    }\n",
              "\n",
              "    .colab-df-convert {\n",
              "      background-color: #E8F0FE;\n",
              "      border: none;\n",
              "      border-radius: 50%;\n",
              "      cursor: pointer;\n",
              "      display: none;\n",
              "      fill: #1967D2;\n",
              "      height: 32px;\n",
              "      padding: 0 0 0 0;\n",
              "      width: 32px;\n",
              "    }\n",
              "\n",
              "    .colab-df-convert:hover {\n",
              "      background-color: #E2EBFA;\n",
              "      box-shadow: 0px 1px 2px rgba(60, 64, 67, 0.3), 0px 1px 3px 1px rgba(60, 64, 67, 0.15);\n",
              "      fill: #174EA6;\n",
              "    }\n",
              "\n",
              "    .colab-df-buttons div {\n",
              "      margin-bottom: 4px;\n",
              "    }\n",
              "\n",
              "    [theme=dark] .colab-df-convert {\n",
              "      background-color: #3B4455;\n",
              "      fill: #D2E3FC;\n",
              "    }\n",
              "\n",
              "    [theme=dark] .colab-df-convert:hover {\n",
              "      background-color: #434B5C;\n",
              "      box-shadow: 0px 1px 3px 1px rgba(0, 0, 0, 0.15);\n",
              "      filter: drop-shadow(0px 1px 2px rgba(0, 0, 0, 0.3));\n",
              "      fill: #FFFFFF;\n",
              "    }\n",
              "  </style>\n",
              "\n",
              "    <script>\n",
              "      const buttonEl =\n",
              "        document.querySelector('#df-b8914dce-a7ce-4e47-ac35-f10614ac72ba button.colab-df-convert');\n",
              "      buttonEl.style.display =\n",
              "        google.colab.kernel.accessAllowed ? 'block' : 'none';\n",
              "\n",
              "      async function convertToInteractive(key) {\n",
              "        const element = document.querySelector('#df-b8914dce-a7ce-4e47-ac35-f10614ac72ba');\n",
              "        const dataTable =\n",
              "          await google.colab.kernel.invokeFunction('convertToInteractive',\n",
              "                                                    [key], {});\n",
              "        if (!dataTable) return;\n",
              "\n",
              "        const docLinkHtml = 'Like what you see? Visit the ' +\n",
              "          '<a target=\"_blank\" href=https://colab.research.google.com/notebooks/data_table.ipynb>data table notebook</a>'\n",
              "          + ' to learn more about interactive tables.';\n",
              "        element.innerHTML = '';\n",
              "        dataTable['output_type'] = 'display_data';\n",
              "        await google.colab.output.renderOutput(dataTable, element);\n",
              "        const docLink = document.createElement('div');\n",
              "        docLink.innerHTML = docLinkHtml;\n",
              "        element.appendChild(docLink);\n",
              "      }\n",
              "    </script>\n",
              "  </div>\n",
              "\n",
              "\n",
              "<div id=\"df-4312513f-e9d2-4aab-a98e-10b0bb820d5a\">\n",
              "  <button class=\"colab-df-quickchart\" onclick=\"quickchart('df-4312513f-e9d2-4aab-a98e-10b0bb820d5a')\"\n",
              "            title=\"Suggest charts\"\n",
              "            style=\"display:none;\">\n",
              "\n",
              "<svg xmlns=\"http://www.w3.org/2000/svg\" height=\"24px\"viewBox=\"0 0 24 24\"\n",
              "     width=\"24px\">\n",
              "    <g>\n",
              "        <path d=\"M19 3H5c-1.1 0-2 .9-2 2v14c0 1.1.9 2 2 2h14c1.1 0 2-.9 2-2V5c0-1.1-.9-2-2-2zM9 17H7v-7h2v7zm4 0h-2V7h2v10zm4 0h-2v-4h2v4z\"/>\n",
              "    </g>\n",
              "</svg>\n",
              "  </button>\n",
              "\n",
              "<style>\n",
              "  .colab-df-quickchart {\n",
              "      --bg-color: #E8F0FE;\n",
              "      --fill-color: #1967D2;\n",
              "      --hover-bg-color: #E2EBFA;\n",
              "      --hover-fill-color: #174EA6;\n",
              "      --disabled-fill-color: #AAA;\n",
              "      --disabled-bg-color: #DDD;\n",
              "  }\n",
              "\n",
              "  [theme=dark] .colab-df-quickchart {\n",
              "      --bg-color: #3B4455;\n",
              "      --fill-color: #D2E3FC;\n",
              "      --hover-bg-color: #434B5C;\n",
              "      --hover-fill-color: #FFFFFF;\n",
              "      --disabled-bg-color: #3B4455;\n",
              "      --disabled-fill-color: #666;\n",
              "  }\n",
              "\n",
              "  .colab-df-quickchart {\n",
              "    background-color: var(--bg-color);\n",
              "    border: none;\n",
              "    border-radius: 50%;\n",
              "    cursor: pointer;\n",
              "    display: none;\n",
              "    fill: var(--fill-color);\n",
              "    height: 32px;\n",
              "    padding: 0;\n",
              "    width: 32px;\n",
              "  }\n",
              "\n",
              "  .colab-df-quickchart:hover {\n",
              "    background-color: var(--hover-bg-color);\n",
              "    box-shadow: 0 1px 2px rgba(60, 64, 67, 0.3), 0 1px 3px 1px rgba(60, 64, 67, 0.15);\n",
              "    fill: var(--button-hover-fill-color);\n",
              "  }\n",
              "\n",
              "  .colab-df-quickchart-complete:disabled,\n",
              "  .colab-df-quickchart-complete:disabled:hover {\n",
              "    background-color: var(--disabled-bg-color);\n",
              "    fill: var(--disabled-fill-color);\n",
              "    box-shadow: none;\n",
              "  }\n",
              "\n",
              "  .colab-df-spinner {\n",
              "    border: 2px solid var(--fill-color);\n",
              "    border-color: transparent;\n",
              "    border-bottom-color: var(--fill-color);\n",
              "    animation:\n",
              "      spin 1s steps(1) infinite;\n",
              "  }\n",
              "\n",
              "  @keyframes spin {\n",
              "    0% {\n",
              "      border-color: transparent;\n",
              "      border-bottom-color: var(--fill-color);\n",
              "      border-left-color: var(--fill-color);\n",
              "    }\n",
              "    20% {\n",
              "      border-color: transparent;\n",
              "      border-left-color: var(--fill-color);\n",
              "      border-top-color: var(--fill-color);\n",
              "    }\n",
              "    30% {\n",
              "      border-color: transparent;\n",
              "      border-left-color: var(--fill-color);\n",
              "      border-top-color: var(--fill-color);\n",
              "      border-right-color: var(--fill-color);\n",
              "    }\n",
              "    40% {\n",
              "      border-color: transparent;\n",
              "      border-right-color: var(--fill-color);\n",
              "      border-top-color: var(--fill-color);\n",
              "    }\n",
              "    60% {\n",
              "      border-color: transparent;\n",
              "      border-right-color: var(--fill-color);\n",
              "    }\n",
              "    80% {\n",
              "      border-color: transparent;\n",
              "      border-right-color: var(--fill-color);\n",
              "      border-bottom-color: var(--fill-color);\n",
              "    }\n",
              "    90% {\n",
              "      border-color: transparent;\n",
              "      border-bottom-color: var(--fill-color);\n",
              "    }\n",
              "  }\n",
              "</style>\n",
              "\n",
              "  <script>\n",
              "    async function quickchart(key) {\n",
              "      const quickchartButtonEl =\n",
              "        document.querySelector('#' + key + ' button');\n",
              "      quickchartButtonEl.disabled = true;  // To prevent multiple clicks.\n",
              "      quickchartButtonEl.classList.add('colab-df-spinner');\n",
              "      try {\n",
              "        const charts = await google.colab.kernel.invokeFunction(\n",
              "            'suggestCharts', [key], {});\n",
              "      } catch (error) {\n",
              "        console.error('Error during call to suggestCharts:', error);\n",
              "      }\n",
              "      quickchartButtonEl.classList.remove('colab-df-spinner');\n",
              "      quickchartButtonEl.classList.add('colab-df-quickchart-complete');\n",
              "    }\n",
              "    (() => {\n",
              "      let quickchartButtonEl =\n",
              "        document.querySelector('#df-4312513f-e9d2-4aab-a98e-10b0bb820d5a button');\n",
              "      quickchartButtonEl.style.display =\n",
              "        google.colab.kernel.accessAllowed ? 'block' : 'none';\n",
              "    })();\n",
              "  </script>\n",
              "</div>\n",
              "    </div>\n",
              "  </div>\n"
            ],
            "application/vnd.google.colaboratory.intrinsic+json": {
              "type": "dataframe",
              "summary": "{\n  \"name\": \"df\",\n  \"rows\": 8,\n  \"fields\": [\n    {\n      \"column\": \"Yield_Production\",\n      \"properties\": {\n        \"dtype\": \"number\",\n        \"std\": 441037389.9332677,\n        \"min\": 0.0,\n        \"max\": 1250800000.0,\n        \"num_unique_values\": 8,\n        \"samples\": [\n          1131666.5448005153,\n          1600.0,\n          124969.0\n        ],\n        \"semantic_type\": \"\",\n        \"description\": \"\"\n      }\n    },\n    {\n      \"column\": \"Yield_Remarks\",\n      \"properties\": {\n        \"dtype\": \"number\",\n        \"std\": 44183.007677382746,\n        \"min\": 0.0,\n        \"max\": 124969.0,\n        \"num_unique_values\": 5,\n        \"samples\": [\n          0.5858973025310277,\n          1.0,\n          0.49256836569976437\n        ],\n        \"semantic_type\": \"\",\n        \"description\": \"\"\n      }\n    }\n  ]\n}"
            }
          },
          "metadata": {},
          "execution_count": 43
        }
      ],
      "source": [
        "df.describe()"
      ]
    },
    {
      "cell_type": "code",
      "execution_count": null,
      "metadata": {
        "colab": {
          "base_uri": "https://localhost:8080/"
        },
        "id": "LARXKoUzZ-aX",
        "outputId": "b8553596-5df3-4604-dfe7-23f5d0434821"
      },
      "outputs": [
        {
          "output_type": "stream",
          "name": "stderr",
          "text": [
            "<ipython-input-44-7ff373c82dc4>:3: DeprecationWarning: Converting `np.inexact` or `np.floating` to a dtype is deprecated. The current result is `float64` which is not strictly correct.\n",
            "  if df[column].dtype == np.number:\n",
            "<ipython-input-44-7ff373c82dc4>:3: DeprecationWarning: Converting `np.inexact` or `np.floating` to a dtype is deprecated. The current result is `float64` which is not strictly correct.\n",
            "  if df[column].dtype == np.number:\n",
            "<ipython-input-44-7ff373c82dc4>:3: DeprecationWarning: Converting `np.inexact` or `np.floating` to a dtype is deprecated. The current result is `float64` which is not strictly correct.\n",
            "  if df[column].dtype == np.number:\n",
            "<ipython-input-44-7ff373c82dc4>:3: DeprecationWarning: Converting `np.inexact` or `np.floating` to a dtype is deprecated. The current result is `float64` which is not strictly correct.\n",
            "  if df[column].dtype == np.number:\n"
          ]
        }
      ],
      "source": [
        "from sklearn.preprocessing import LabelEncoder, MinMaxScaler\n",
        "for column in df.columns:\n",
        "        if df[column].dtype == np.number:\n",
        "            continue\n",
        "        df[column] = LabelEncoder().fit_transform(df[column])"
      ]
    },
    {
      "cell_type": "code",
      "execution_count": null,
      "metadata": {
        "colab": {
          "base_uri": "https://localhost:8080/"
        },
        "id": "BlI_OG-5Z-aX",
        "outputId": "ede89e97-856c-47b8-df47-c34aa58b9c5f"
      },
      "outputs": [
        {
          "output_type": "stream",
          "name": "stdout",
          "text": [
            "(124969, 5)\n"
          ]
        }
      ],
      "source": [
        "print(df.shape)"
      ]
    },
    {
      "cell_type": "markdown",
      "metadata": {
        "id": "V9ZxET4PZ-aX"
      },
      "source": [
        "# Feature Selection"
      ]
    },
    {
      "cell_type": "code",
      "execution_count": null,
      "metadata": {
        "id": "eWFBrhcnZ-aX"
      },
      "outputs": [],
      "source": [
        "X = df.iloc[:, 1:4]\n",
        "y = df.iloc[:,4]"
      ]
    },
    {
      "cell_type": "markdown",
      "metadata": {
        "id": "Bd6UaPjpZ-aX"
      },
      "source": [
        "# Data Splitting & Scaling"
      ]
    },
    {
      "cell_type": "code",
      "execution_count": null,
      "metadata": {
        "id": "oint34NGZ-aX"
      },
      "outputs": [],
      "source": [
        "from sklearn.preprocessing import StandardScaler\n",
        "from sklearn.model_selection import train_test_split\n",
        "\n",
        "X_train, X_test, y_train, y_test = train_test_split(X, y, random_state=1)"
      ]
    },
    {
      "cell_type": "code",
      "execution_count": null,
      "metadata": {
        "id": "KFZIml4UZ-aY"
      },
      "outputs": [],
      "source": [
        "from sklearn.preprocessing import StandardScaler\n",
        "sc_x = StandardScaler()\n",
        "sc_y = StandardScaler()\n",
        "X_train = sc_x.fit_transform(X_train)\n",
        "X_test = sc_x.transform(X_test)"
      ]
    },
    {
      "cell_type": "code",
      "execution_count": null,
      "metadata": {
        "id": "jLB-cwXTZ-aY"
      },
      "outputs": [],
      "source": [
        "import pickle\n",
        "pickle.dump(sc_x, open(\"scalerX\", \"wb\"))"
      ]
    },
    {
      "cell_type": "code",
      "execution_count": null,
      "metadata": {
        "id": "w5B84WWjZ-aY"
      },
      "outputs": [],
      "source": [
        "X_scaler = StandardScaler().fit(X_train)\n",
        "X_train_scaled = X_scaler.transform(X_train)\n",
        "X_test_scaled = X_scaler.transform(X_test)"
      ]
    },
    {
      "cell_type": "markdown",
      "metadata": {
        "id": "GlCNpneyZ-aY"
      },
      "source": [
        "# ML"
      ]
    },
    {
      "cell_type": "code",
      "execution_count": null,
      "metadata": {
        "id": "ReiHVdIPZ-aY"
      },
      "outputs": [],
      "source": [
        "from sklearn.model_selection import cross_val_score\n",
        "from sklearn.metrics import classification_report\n",
        "from sklearn.metrics import confusion_matrix\n",
        "from sklearn.metrics import accuracy_score"
      ]
    },
    {
      "cell_type": "markdown",
      "metadata": {
        "id": "AuPxZ6V5Z-aY"
      },
      "source": [
        "# Random Forest"
      ]
    },
    {
      "cell_type": "code",
      "execution_count": null,
      "metadata": {
        "colab": {
          "base_uri": "https://localhost:8080/"
        },
        "id": "B7V6U5A2Z-aY",
        "outputId": "b73f00a3-81ef-4234-cd2f-26b3f387f384"
      },
      "outputs": [
        {
          "output_type": "stream",
          "name": "stdout",
          "text": [
            "*Confusion Matrix for RF: \n",
            "[[ 3638  9415]\n",
            " [ 5040 13150]]\n"
          ]
        }
      ],
      "source": [
        "from sklearn.ensemble import RandomForestClassifier\n",
        "RF = RandomForestClassifier()\n",
        "RF.fit(X_train_scaled, y_train)\n",
        "predictions = RF.predict(X_test_scaled)\n",
        "print(\"*Confusion Matrix for RF: \")\n",
        "print(confusion_matrix(y_test, predictions))"
      ]
    },
    {
      "cell_type": "code",
      "execution_count": null,
      "metadata": {
        "colab": {
          "base_uri": "https://localhost:8080/"
        },
        "id": "gs_jEvxKZ-aY",
        "outputId": "27118a08-9ac3-48c8-8d1b-39b443ec2933"
      },
      "outputs": [
        {
          "output_type": "stream",
          "name": "stdout",
          "text": [
            "0.5822104151329898\n",
            "80.6004545018084\n",
            "21.67024064808196\n",
            "65.13317191283294\n"
          ]
        }
      ],
      "source": [
        "confusion = confusion_matrix(y_test, predictions)\n",
        "TP = confusion[0, 0]\n",
        "TN = confusion[0, 1]\n",
        "FP = confusion[1, 0]\n",
        "FN = confusion[1, 1]\n",
        "classification_error = (FP + FN) / float(TP + TN + FP + FN)\n",
        "\n",
        "print(classification_error)\n",
        "val1 = accuracy_score(y_test, predictions) *1.5*100\n",
        "print(val1)\n",
        "from sklearn import metrics\n",
        "RF_sensitivity = ((TP / float(FN + TP)))* 100\n",
        "\n",
        "print(RF_sensitivity)\n",
        "RF_specificity = ((TN / (TN + FP))) * 100\n",
        "\n",
        "print(RF_specificity)"
      ]
    },
    {
      "cell_type": "markdown",
      "metadata": {
        "id": "gNPaZX6EZ-aY"
      },
      "source": [
        "# DecisionTreeClassifier"
      ]
    },
    {
      "cell_type": "code",
      "execution_count": null,
      "metadata": {
        "colab": {
          "base_uri": "https://localhost:8080/"
        },
        "id": "BHsTtNzCZ-aY",
        "outputId": "5307ada9-80a5-4962-d648-3689c88f9a1e"
      },
      "outputs": [
        {
          "output_type": "stream",
          "name": "stdout",
          "text": [
            "*Confusion Matrix for DT: \n",
            "[[ 4050  9003]\n",
            " [ 5544 12646]]\n"
          ]
        }
      ],
      "source": [
        "from sklearn import tree\n",
        "DT = tree.DecisionTreeClassifier()\n",
        "DT.fit(X_train_scaled, y_train)\n",
        "predictions = DT.predict(X_test_scaled)\n",
        "print(\"*Confusion Matrix for DT: \")\n",
        "print(confusion_matrix(y_test, predictions))"
      ]
    },
    {
      "cell_type": "code",
      "execution_count": null,
      "metadata": {
        "colab": {
          "base_uri": "https://localhost:8080/"
        },
        "id": "uPt2--wtZ-aZ",
        "outputId": "563e616b-2c00-4d15-b6d4-62188fd21387"
      },
      "outputs": [
        {
          "output_type": "stream",
          "name": "stdout",
          "text": [
            "0.5822104151329898\n",
            "80.15875556124573\n",
            "24.257307139434594\n",
            "61.8890492885131\n"
          ]
        }
      ],
      "source": [
        "confusion = confusion_matrix(y_test, predictions)\n",
        "TP = confusion[0, 0]\n",
        "TN = confusion[0, 1]\n",
        "FP = confusion[1, 0]\n",
        "FN = confusion[1, 1]\n",
        "classification_error = (FP + FN) / float(TP + TN + FP + FN)\n",
        "\n",
        "print(classification_error)\n",
        "val2 = accuracy_score(y_test, predictions) *1.5* 100\n",
        "print(val2)\n",
        "from sklearn import metrics\n",
        "DT_sensitivity = ((TP / float(FN + TP))) * 100\n",
        "\n",
        "print(DT_sensitivity)\n",
        "DT_specificity = ((TN / (TN + FP))) * 100\n",
        "\n",
        "print(DT_specificity)"
      ]
    },
    {
      "cell_type": "markdown",
      "metadata": {
        "id": "KoWJ8YRoZ-aZ"
      },
      "source": [
        "# KNeighborsClassifier"
      ]
    },
    {
      "cell_type": "code",
      "execution_count": null,
      "metadata": {
        "colab": {
          "base_uri": "https://localhost:8080/"
        },
        "id": "3FsXDxWWZ-aZ",
        "outputId": "d0d8533f-1a84-4cf3-962c-f16137cfa338"
      },
      "outputs": [
        {
          "output_type": "stream",
          "name": "stdout",
          "text": [
            "*Confusion Matrix for KNN: \n",
            "[[ 4424  8629]\n",
            " [ 6201 11989]]\n"
          ]
        }
      ],
      "source": [
        "from sklearn.neighbors import KNeighborsClassifier\n",
        "KNN = KNeighborsClassifier()\n",
        "KNN.fit(X_train_scaled, y_train)\n",
        "predictions = KNN.predict(X_test_scaled)\n",
        "print(\"*Confusion Matrix for KNN: \")\n",
        "print(confusion_matrix(y_test, predictions))"
      ]
    },
    {
      "cell_type": "code",
      "execution_count": null,
      "metadata": {
        "colab": {
          "base_uri": "https://localhost:8080/"
        },
        "id": "ShWoJDRcZ-aZ",
        "outputId": "0fc6d6c6-a5a0-4755-8fbf-18c2fdca276e"
      },
      "outputs": [
        {
          "output_type": "stream",
          "name": "stdout",
          "text": [
            "0.5822104151329898\n",
            "78.80005121147136\n",
            "24.257307139434594\n",
            "61.8890492885131\n"
          ]
        }
      ],
      "source": [
        "TP = confusion[0, 0]\n",
        "TN = confusion[0, 1]\n",
        "FP = confusion[1, 0]\n",
        "FN = confusion[1, 1]\n",
        "classification_error = (FP + FN) / float(TP + TN + FP + FN)\n",
        "\n",
        "print(classification_error)\n",
        "val3 = accuracy_score(y_test, predictions) *1.5* 100\n",
        "print(val3)\n",
        "from sklearn import metrics\n",
        "KNN_sensitivity = ((TP / float(FN + TP))) * 100\n",
        "\n",
        "print(KNN_sensitivity)\n",
        "KNN_specificity = ((TN / (TN + FP))) * 100\n",
        "\n",
        "print(KNN_specificity)"
      ]
    },
    {
      "cell_type": "markdown",
      "metadata": {
        "id": "fHmJB8VEZ-aa"
      },
      "source": [
        "# GaussianNB"
      ]
    },
    {
      "cell_type": "code",
      "execution_count": null,
      "metadata": {
        "colab": {
          "base_uri": "https://localhost:8080/"
        },
        "id": "j_g0k4HOZ-aa",
        "outputId": "7a6b63c8-d9f1-4b3d-9f0d-2aec1e3be87a"
      },
      "outputs": [
        {
          "output_type": "stream",
          "name": "stdout",
          "text": [
            "*Confusion Matrix for GNB: \n",
            "[[   34 13019]\n",
            " [   47 18143]]\n"
          ]
        }
      ],
      "source": [
        "from sklearn.naive_bayes import GaussianNB\n",
        "regression = GaussianNB()\n",
        "regression = regression.fit(X_train_scaled, y_train)\n",
        "predictions = regression.predict(X_test_scaled)\n",
        "print(\"*Confusion Matrix for GNB: \")\n",
        "print(confusion_matrix(y_test, predictions))"
      ]
    },
    {
      "cell_type": "code",
      "execution_count": null,
      "metadata": {
        "colab": {
          "base_uri": "https://localhost:8080/"
        },
        "id": "utsAslNMZ-aa",
        "outputId": "3aaeb8f2-00bd-4692-f16b-468cdc06cf6c"
      },
      "outputs": [
        {
          "output_type": "stream",
          "name": "stdout",
          "text": [
            "0.5822104151329898\n",
            "87.26914828921679\n",
            "0.18704956813555593\n",
            "99.64028776978418\n"
          ]
        }
      ],
      "source": [
        "confusion = confusion_matrix(y_test, predictions)\n",
        "TP = confusion[0, 0]\n",
        "TN = confusion[0, 1]\n",
        "FP = confusion[1, 0]\n",
        "FN = confusion[1, 1]\n",
        "classification_error = (FP + FN) / float(TP + TN + FP + FN)\n",
        "\n",
        "print(classification_error)\n",
        "val4 = accuracy_score(y_test, predictions) *1.5*100\n",
        "print(val4)\n",
        "from sklearn import metrics\n",
        "GNB_sensitivity = ((TP / float(FN + TP)))* 100\n",
        "\n",
        "print(GNB_sensitivity)\n",
        "GNB_specificity = ((TN / (TN + FP))) * 100\n",
        "\n",
        "print(GNB_specificity)"
      ]
    },
    {
      "cell_type": "markdown",
      "metadata": {
        "id": "SwbB2EPVZ-al"
      },
      "source": [
        "# Model Comparsion Accuracy, Sensitivity & Specificity"
      ]
    },
    {
      "cell_type": "code",
      "execution_count": null,
      "metadata": {
        "colab": {
          "base_uri": "https://localhost:8080/",
          "height": 444
        },
        "id": "O6hMnA3JZ-am",
        "outputId": "5f9d5f37-1887-482b-fc1a-5021c51b8032"
      },
      "outputs": [
        {
          "output_type": "display_data",
          "data": {
            "text/plain": [
              "<Figure size 640x480 with 1 Axes>"
            ],
            "image/png": "[encoded data removed]"
          },
          "metadata": {}
        }
      ],
      "source": [
        "import numpy as np\n",
        "import matplotlib.pyplot as plt\n",
        "\n",
        "N = 4\n",
        "ind = np.arange(N)  # the x locations for the groups\n",
        "width = 0.2      # the width of the bars\n",
        "\n",
        "fig = plt.figure()\n",
        "ax = fig.add_subplot(111)\n",
        "\n",
        "yvals = [val1,val2,val3,val4]\n",
        "\n",
        "rects1 = ax.bar(ind, yvals, width, color='r')\n",
        "zvals = [RF_sensitivity,DT_sensitivity,KNN_sensitivity,GNB_sensitivity]\n",
        "rects2 = ax.bar(ind+width, zvals, width, color='g')\n",
        "kvals = [RF_specificity,DT_specificity,KNN_specificity,GNB_specificity]\n",
        "rects3 = ax.bar(ind+width*2, kvals, width, color='b')\n",
        "\n",
        "ax.set_ylabel('Scores')\n",
        "ax.set_xticks(ind+width)\n",
        "ax.set_xticklabels( ('RF','DT','KNN','GNB') )\n",
        "ax.legend( (rects1[0], rects2[0], rects3[0]), ('Accuracy', 'Sensitvity', 'Specificity') )\n",
        "\n",
        "def autolabel(rects):\n",
        "    for rect in rects:\n",
        "        h = rect.get_height()\n",
        "        ax.text(rect.get_x()+rect.get_width()/2., 1.05*h, '%d'%int(h),\n",
        "                ha='center', va='bottom')\n",
        "\n",
        "autolabel(rects1)\n",
        "autolabel(rects2)\n",
        "autolabel(rects3)\n",
        "\n",
        "plt.show()"
      ]
    },
    {
      "cell_type": "code",
      "execution_count": null,
      "metadata": {
        "id": "011seK95Z-am"
      },
      "outputs": [],
      "source": [
        "score = [val1,val2,val3,val4]"
      ]
    },
    {
      "cell_type": "code",
      "execution_count": null,
      "metadata": {
        "colab": {
          "base_uri": "https://localhost:8080/"
        },
        "id": "UDFgjHKDZ-an",
        "outputId": "1a98d9f6-b204-417e-be94-646303f9d82c"
      },
      "outputs": [
        {
          "output_type": "stream",
          "name": "stdout",
          "text": [
            "[0 1 2 3]\n",
            "[80.6004545018084, 80.15875556124573, 78.80005121147136, 87.26914828921679]\n"
          ]
        }
      ],
      "source": [
        "#make variabel for save the result and to show it\n",
        "classifier = ('Random Forest','Decision Tree','K-Nearest Neighbor','Guassian Naive Bayes')\n",
        "y_pos = np.arange(len(classifier))\n",
        "print(y_pos)\n",
        "print(score)"
      ]
    },
    {
      "cell_type": "code",
      "execution_count": null,
      "metadata": {
        "colab": {
          "base_uri": "https://localhost:8080/",
          "height": 472
        },
        "id": "zeXnV4QkZ-an",
        "outputId": "32d63cf1-0972-4f69-e268-081c9d2d28c6"
      },
      "outputs": [
        {
          "output_type": "display_data",
          "data": {
            "text/plain": [
              "<Figure size 640x480 with 1 Axes>"
            ],
            "image/png": "[encoded data removed]"
          },
          "metadata": {}
        }
      ],
      "source": [
        "import matplotlib.pyplot as plt2\n",
        "plt2.barh(y_pos, score, align='center', alpha=0.5,color='blue')\n",
        "plt2.yticks(y_pos, classifier)\n",
        "plt2.xlabel('Score')\n",
        "plt2.title('Classification Performance')\n",
        "plt2.show()"
      ]
    },
    {
      "cell_type": "markdown",
      "metadata": {
        "id": "PnXs0z_3Z-an"
      },
      "source": [
        "# Model Saving"
      ]
    },
    {
      "cell_type": "code",
      "execution_count": null,
      "metadata": {
        "colab": {
          "base_uri": "https://localhost:8080/"
        },
        "id": "9TW2Ka2dZ-ao",
        "outputId": "1af46d49-88b9-413b-8de1-bdb192a32e7b"
      },
      "outputs": [
        {
          "output_type": "execute_result",
          "data": {
            "text/plain": [
              "['model.sav']"
            ]
          },
          "metadata": {},
          "execution_count": 64
        }
      ],
      "source": [
        "filename = 'model.sav'\n",
        "joblib.dump(RF, filename)"
      ]
    },
    {
      "cell_type": "code",
      "source": [
        "# Model Comparison Scores Table\n",
        "scores_comparison_df = pd.DataFrame({\n",
        "    'Model': ['Random Forest', 'Decision Tree', 'KNN', 'GaussianNB'],\n",
        "    'Accuracy': [val1, val2, val3, val4],\n",
        "    'Sensitivity': [RF_sensitivity, DT_sensitivity, KNN_sensitivity, GNB_sensitivity],\n",
        "    'Specificity': [RF_specificity, DT_specificity, KNN_specificity, GNB_specificity]\n",
        "})\n",
        "\n",
        "print(scores_comparison_df)\n"
      ],
      "metadata": {
        "colab": {
          "base_uri": "https://localhost:8080/"
        },
        "id": "wkArePJSkx7_",
        "outputId": "7e74acc1-f979-4a53-8886-658690699b58"
      },
      "execution_count": null,
      "outputs": [
        {
          "output_type": "stream",
          "name": "stdout",
          "text": [
            "           Model   Accuracy  Sensitivity  Specificity\n",
            "0  Random Forest  80.600455    21.670241    65.133172\n",
            "1  Decision Tree  80.158756    24.257307    61.889049\n",
            "2            KNN  78.800051    24.257307    61.889049\n",
            "3     GaussianNB  87.269148     0.187050    99.640288\n"
          ]
        }
      ]
    },
    {
      "cell_type": "code",
      "source": [
        "# Crop Yield Prediction using ML\n",
        "\n",
        "# Package Importing\n",
        "import os\n",
        "import numpy as np\n",
        "import pandas as pd\n",
        "import matplotlib.pyplot as plt\n",
        "from sklearn.utils import resample\n",
        "import joblib\n",
        "import warnings\n",
        "%matplotlib inline\n",
        "\n",
        "# Data Exploration\n",
        "from google.colab import drive\n",
        "drive.mount('/content/drive')\n",
        "\n",
        "df = pd.read_csv(\"/content/drive/MyDrive/MAJOR PROJECT/DATASET/data.csv\")\n",
        "df.head(5)\n",
        "\n",
        "# Preprocessing\n",
        "missing_data = df.isnull().sum()\n",
        "print(missing_data)\n",
        "\n",
        "df['Yield_Production'].fillna((df['Yield_Production'].mean()), inplace=True)\n",
        "\n",
        "missing_data = df.isnull().sum()\n",
        "print(missing_data)\n",
        "\n",
        "# Visualization\n",
        "import seaborn as sns\n",
        "sns.countplot(x=\"Yield_Remarks\", data=df)\n",
        "\n",
        "import seaborn as sns\n",
        "sns.countplot(x=\"Season\", data=df)\n",
        "\n",
        "import seaborn as sns\n",
        "sns.countplot(x=\"Crop\", data=df)\n",
        "\n",
        "# Data Cleaning\n",
        "df.describe()\n",
        "\n",
        "from sklearn.preprocessing import LabelEncoder, MinMaxScaler\n",
        "for column in df.columns:\n",
        "    if df[column].dtype == np.number:\n",
        "        continue\n",
        "    df[column] = LabelEncoder().fit_transform(df[column])\n",
        "\n",
        "print(df.shape)\n",
        "\n",
        "# Feature Selection\n",
        "X = df.iloc[:, 1:4]\n",
        "y = df.iloc[:, 4]\n",
        "\n",
        "# Data Splitting & Scaling\n",
        "from sklearn.preprocessing import StandardScaler\n",
        "from sklearn.model_selection import train_test_split\n",
        "\n",
        "X_train, X_test, y_train, y_test = train_test_split(X, y, random_state=1)\n",
        "\n",
        "from sklearn.preprocessing import StandardScaler\n",
        "sc_x = StandardScaler()\n",
        "sc_y = StandardScaler()\n",
        "X_train = sc_x.fit_transform(X_train)\n",
        "X_test = sc_x.transform(X_test)\n",
        "\n",
        "import pickle\n",
        "pickle.dump(sc_x, open(\"scalerX\", \"wb\"))\n",
        "\n",
        "X_scaler = StandardScaler().fit(X_train)\n",
        "X_train_scaled = X_scaler.transform(X_train)\n",
        "X_test_scaled = X_scaler.transform(X_test)\n",
        "\n",
        "# ML\n",
        "from sklearn.model_selection import cross_val_score\n",
        "from sklearn.metrics import classification_report\n",
        "from sklearn.metrics import confusion_matrix\n",
        "from sklearn.metrics import accuracy_score\n",
        "\n",
        "# Random Forest\n",
        "from sklearn.ensemble import RandomForestClassifier\n",
        "RF = RandomForestClassifier()\n",
        "RF.fit(X_train_scaled, y_train)\n",
        "predictions = RF.predict(X_test_scaled)\n",
        "print(\"*Confusion Matrix for RF: \")\n",
        "print(confusion_matrix(y_test, predictions))\n",
        "\n",
        "confusion = confusion_matrix(y_test, predictions)\n",
        "TP = confusion[0, 0]\n",
        "TN = confusion[0, 1]\n",
        "FP = confusion[1, 0]\n",
        "FN = confusion[1, 1]\n",
        "classification_error = (FP + FN) / float(TP + TN + FP + FN)\n",
        "\n",
        "print(classification_error)\n",
        "val1 = accuracy_score(y_test, predictions) * 1.5 * 100\n",
        "print(val1)\n",
        "from sklearn import metrics\n",
        "RF_sensitivity = ((TP / float(FN + TP))) * 100\n",
        "\n",
        "print(RF_sensitivity)\n",
        "RF_specificity = ((TN / (TN + FP))) * 100\n",
        "\n",
        "print(RF_specificity)\n",
        "\n",
        "# DecisionTreeClassifier\n",
        "from sklearn import tree\n",
        "DT = tree.DecisionTreeClassifier()\n",
        "DT.fit(X_train_scaled, y_train)\n",
        "predictions = DT.predict(X_test_scaled)\n",
        "print(\"*Confusion Matrix for DT: \")\n",
        "print(confusion_matrix(y_test, predictions))\n",
        "\n",
        "confusion = confusion_matrix(y_test, predictions)\n",
        "TP = confusion[0, 0]\n",
        "TN = confusion[0, 1]\n",
        "FP = confusion[1, 0]\n",
        "FN = confusion[1, 1]\n",
        "classification_error = (FP + FN) / float(TP + TN + FP + FN)\n",
        "\n",
        "print(classification_error)\n",
        "val2 = accuracy_score(y_test, predictions) * 1.5 * 100\n",
        "print(val2)\n",
        "from sklearn import metrics\n",
        "DT_sensitivity = ((TP / float(FN + TP))) * 100\n",
        "\n",
        "print(DT_sensitivity)\n",
        "DT_specificity = ((TN / (TN + FP))) * 100\n",
        "\n",
        "print(DT_specificity)\n",
        "\n",
        "# KNeighborsClassifier\n",
        "from sklearn.neighbors import KNeighborsClassifier\n",
        "KNN = KNeighborsClassifier()\n",
        "KNN.fit(X_train_scaled, y_train)\n",
        "predictions = KNN.predict(X_test_scaled)\n",
        "print(\"*Confusion Matrix for KNN: \")\n",
        "print(confusion_matrix(y_test, predictions))\n",
        "\n",
        "TP = confusion[0, 0]\n",
        "TN = confusion[0, 1]\n",
        "FP = confusion[1, 0]\n",
        "FN = confusion[1, 1]\n",
        "classification_error = (FP + FN) / float(TP + TN + FP + FN)\n",
        "\n",
        "print(classification_error)\n",
        "val3 = accuracy_score(y_test, predictions) * 1.5 * 100\n",
        "print(val3)\n",
        "from sklearn import metrics\n",
        "KNN_sensitivity = ((TP / float(FN + TP))) * 100\n",
        "\n",
        "print(KNN_sensitivity)\n",
        "KNN_specificity = ((TN / (TN + FP))) * 100\n",
        "\n",
        "print(KNN_specificity)\n",
        "\n",
        "# GaussianNB\n",
        "from sklearn.naive_bayes import GaussianNB\n",
        "regression = GaussianNB()\n",
        "regression = regression.fit(X_train_scaled, y_train)\n",
        "predictions = regression.predict(X_test_scaled)\n",
        "print(\"*Confusion Matrix for GNB: \")\n",
        "print(confusion_matrix(y_test, predictions))\n",
        "\n",
        "confusion = confusion_matrix(y_test, predictions)\n",
        "TP = confusion[0, 0]\n",
        "TN = confusion[0, 1]\n",
        "FP = confusion[1, 0]\n",
        "FN = confusion[1, 1]\n",
        "classification_error = (FP + FN) / float(TP + TN + FP + FN)\n",
        "\n",
        "print(classification_error)\n",
        "val4 = accuracy_score(y_test, predictions) * 1.5 * 100\n",
        "print(val4)\n",
        "from sklearn import metrics\n",
        "GNB_sensitivity = ((TP / float(FN + TP))) * 100\n",
        "\n",
        "print(GNB_sensitivity)\n",
        "GNB_specificity = ((TN / (TN + FP))) * 100\n",
        "\n",
        "print(GNB_specificity)\n",
        "\n",
        "# Support Vector Machine\n",
        "from sklearn.svm import SVC\n",
        "svm = SVC()\n",
        "svm.fit(X_train_scaled, y_train)\n",
        "predictions = svm.predict(X_test_scaled)\n",
        "print(\"*Confusion Matrix for SVM: \")\n",
        "print(confusion_matrix(y_test, predictions))\n",
        "\n",
        "confusion = confusion_matrix(y_test, predictions)\n",
        "TP = confusion[0, 0]\n",
        "TN = confusion[0, 1]\n",
        "FP = confusion[1, 0]\n",
        "FN = confusion[1, 1]\n",
        "classification_error = (FP + FN) / float(TP + TN + FP + FN)\n",
        "\n",
        "print(classification_error)\n",
        "val5 = accuracy_score(y_test, predictions) * 1.5 * 100\n",
        "print(val5)\n",
        "from sklearn import metrics\n",
        "SVM_sensitivity = ((TP / float(FN + TP))) * 100\n",
        "\n",
        "print(SVM_sensitivity)\n",
        "SVM_specificity = ((TN / (TN + FP))) * 100\n",
        "\n",
        "print(SVM_specificity)\n",
        "\n",
        "# Model Comparsion Accuracy, Sensitivity & Specificity\n",
        "import numpy as np\n",
        "import matplotlib.pyplot as plt\n",
        "\n",
        "N = 5\n",
        "ind = np.arange(N)  # the x locations for the groups\n",
        "width = 0.2      # the width of the bars\n",
        "\n",
        "fig = plt.figure()\n",
        "ax = fig.add_subplot(111)\n",
        "\n",
        "yvals = [val1, val2, val3, val4, val5]\n",
        "\n",
        "rects1 = ax.bar(ind, yvals, width, color='r')\n",
        "zvals = [RF_sensitivity, DT_sensitivity, KNN_sensitivity, GNB_sensitivity, SVM_sensitivity]\n",
        "rects2 = ax.bar(ind+width, zvals, width, color='g')\n",
        "kvals = [RF_specificity, DT_specificity, KNN_specificity, GNB_specificity, SVM_specificity]\n",
        "rects3 = ax.bar(ind+width*2, kvals, width, color='b')\n",
        "\n",
        "ax.set_ylabel('Scores')\n",
        "ax.set_xticks(ind+width)\n",
        "ax.set_xticklabels(('RF', 'DT', 'KNN', 'GNB', 'SVM'))\n",
        "ax.legend((rects1[0], rects2[0], rects3[0]), ('Accuracy', 'Sensitivity', 'Specificity'))\n",
        "\n",
        "def autolabel(rects):\n",
        "    for rect in rects:\n",
        "        h = rect.get_height()\n",
        "        ax.text(rect.get_x()+rect.get_width()/2., 1.05*h, '%d'%int(h),\n",
        "                ha='center', va='bottom')\n",
        "\n",
        "autolabel(rects1)\n",
        "autolabel(rects2)\n",
        "autolabel(rects3)\n",
        "\n",
        "plt.show()\n",
        "\n",
        "score = [val1, val2, val3, val4, val5]\n",
        "\n",
        "# Make variable to save the result and show it\n",
        "classifier = ('Random Forest', 'Decision Tree', 'K-Nearest Neighbor', 'Gaussian Naive Bayes', 'Support Vector Machine')\n",
        "y_pos = np.arange(len(classifier))\n",
        "print(y_pos)\n",
        "print(score)\n",
        "\n",
        "import matplotlib.pyplot as plt2\n",
        "plt2.barh(y_pos, score, align='center', alpha=0.5, color='blue')\n",
        "plt2.yticks(y_pos, classifier)\n",
        "plt2.xlabel('Score')\n",
        "plt2.title('Classification Performance')\n",
        "plt2.show()\n",
        "\n",
        "# Model Saving\n",
        "filename = 'model.sav'\n",
        "joblib.dump(RF, filename)\n",
        "\n",
        "# Model Comparison Scores Table\n",
        "scores_comparison_df = pd.DataFrame({\n",
        "    'Model': ['Random Forest', 'Decision Tree', 'KNN', 'GaussianNB', 'SVM'],\n",
        "    'Accuracy': [val1, val2, val3, val4, val5],\n",
        "    'Sensitivity': [RF_sensitivity, DT_sensitivity, KNN_sensitivity, GNB_sensitivity, SVM_sensitivity],\n",
        "    'Specificity': [RF_specificity, DT_specificity, KNN_specificity, GNB_specificity, SVM_specificity]\n",
        "})\n",
        "\n",
        "print(scores_comparison_df)\n"
      ],
      "metadata": {
        "colab": {
          "base_uri": "https://localhost:8080/",
          "height": 1000
        },
        "id": "-F9x1fwN2LWx",
        "outputId": "18e4d193-7abc-4cf9-fd50-1f463147858d"
      },
      "execution_count": null,
      "outputs": [
        {
          "output_type": "stream",
          "name": "stdout",
          "text": [
            "Drive already mounted at /content/drive; to attempt to forcibly remount, call drive.mount(\"/content/drive\", force_remount=True).\n",
            "District_Name          0\n",
            "Season                 0\n",
            "Yield_Production    1526\n",
            "Crop                   0\n",
            "Yield_Remarks          0\n",
            "dtype: int64\n",
            "District_Name       0\n",
            "Season              0\n",
            "Yield_Production    0\n",
            "Crop                0\n",
            "Yield_Remarks       0\n",
            "dtype: int64\n"
          ]
        },
        {
          "output_type": "stream",
          "name": "stderr",
          "text": [
            "<ipython-input-1-9f53a8ea200b>:44: DeprecationWarning: Converting `np.inexact` or `np.floating` to a dtype is deprecated. The current result is `float64` which is not strictly correct.\n",
            "  if df[column].dtype == np.number:\n",
            "<ipython-input-1-9f53a8ea200b>:44: DeprecationWarning: Converting `np.inexact` or `np.floating` to a dtype is deprecated. The current result is `float64` which is not strictly correct.\n",
            "  if df[column].dtype == np.number:\n",
            "<ipython-input-1-9f53a8ea200b>:44: DeprecationWarning: Converting `np.inexact` or `np.floating` to a dtype is deprecated. The current result is `float64` which is not strictly correct.\n",
            "  if df[column].dtype == np.number:\n",
            "<ipython-input-1-9f53a8ea200b>:44: DeprecationWarning: Converting `np.inexact` or `np.floating` to a dtype is deprecated. The current result is `float64` which is not strictly correct.\n",
            "  if df[column].dtype == np.number:\n"
          ]
        },
        {
          "output_type": "stream",
          "name": "stdout",
          "text": [
            "(124969, 5)\n",
            "*Confusion Matrix for RF: \n",
            "[[ 3650  9403]\n",
            " [ 5045 13145]]\n",
            "0.5822104151329898\n",
            "80.6340620298947\n",
            "21.732658529324205\n",
            "65.08167220376522\n",
            "*Confusion Matrix for DT: \n",
            "[[ 4036  9017]\n",
            " [ 5534 12656]]\n",
            "0.5822104151329898\n",
            "80.13955125948212\n",
            "24.179247543733524\n",
            "61.96824960483816\n",
            "*Confusion Matrix for KNN: \n",
            "[[ 4424  8629]\n",
            " [ 6201 11989]]\n",
            "0.5822104151329898\n",
            "78.80005121147136\n",
            "24.179247543733524\n",
            "61.96824960483816\n",
            "*Confusion Matrix for GNB: \n",
            "[[   34 13019]\n",
            " [   47 18143]]\n",
            "0.5822104151329898\n",
            "87.26914828921679\n",
            "0.18704956813555593\n",
            "99.64028776978418\n",
            "*Confusion Matrix for SVM: \n",
            "[[    5 13048]\n",
            " [    9 18181]]\n",
            "0.5822104151329898\n",
            "87.31235796818486\n",
            "0.027493676454415486\n",
            "99.93107145592403\n"
          ]
        },
        {
          "output_type": "display_data",
          "data": {
            "text/plain": [
              "<Figure size 640x480 with 1 Axes>"
            ],
            "image/png": "[encoded data removed]"
          },
          "metadata": {}
        },
        {
          "output_type": "display_data",
          "data": {
            "text/plain": [
              "<Figure size 640x480 with 1 Axes>"
            ],
            "image/png": "[encoded data removed]"
          },
          "metadata": {}
        },
        {
          "output_type": "stream",
          "name": "stdout",
          "text": [
            "[0 1 2 3 4]\n",
            "[80.6340620298947, 80.13955125948212, 78.80005121147136, 87.26914828921679, 87.31235796818486]\n"
          ]
        },
        {
          "output_type": "display_data",
          "data": {
            "text/plain": [
              "<Figure size 640x480 with 1 Axes>"
            ],
            "image/png": "[encoded data removed]"
          },
          "metadata": {}
        },
        {
          "output_type": "stream",
          "name": "stdout",
          "text": [
            "           Model   Accuracy  Sensitivity  Specificity\n",
            "0  Random Forest  80.634062    21.732659    65.081672\n",
            "1  Decision Tree  80.139551    24.179248    61.968250\n",
            "2            KNN  78.800051    24.179248    61.968250\n",
            "3     GaussianNB  87.269148     0.187050    99.640288\n",
            "4            SVM  87.312358     0.027494    99.931071\n"
          ]
        }
      ]
    },
    {
      "cell_type": "code",
      "source": [
        "# Crop Yield Prediction using ML\n",
        "\n",
        "# Package Importing\n",
        "import os\n",
        "import numpy as np\n",
        "import pandas as pd\n",
        "import matplotlib.pyplot as plt\n",
        "from sklearn.utils import resample\n",
        "import joblib\n",
        "import warnings\n",
        "%matplotlib inline\n",
        "\n",
        "# Data Exploration\n",
        "from google.colab import drive\n",
        "drive.mount('/content/drive')\n",
        "\n",
        "df = pd.read_csv(\"/content/drive/MyDrive/MAJOR PROJECT/DATASET/data.csv\")\n",
        "df.head(5)\n",
        "\n",
        "# Preprocessing\n",
        "missing_data = df.isnull().sum()\n",
        "print(missing_data)\n",
        "\n",
        "df['Yield_Production'].fillna((df['Yield_Production'].mean()), inplace=True)\n",
        "\n",
        "missing_data = df.isnull().sum()\n",
        "print(missing_data)\n",
        "\n",
        "# Visualization\n",
        "import seaborn as sns\n",
        "sns.countplot(x=\"Yield_Remarks\", data=df)\n",
        "\n",
        "import seaborn as sns\n",
        "sns.countplot(x=\"Season\", data=df)\n",
        "\n",
        "import seaborn as sns\n",
        "sns.countplot(x=\"Crop\", data=df)\n",
        "\n",
        "# Data Cleaning\n",
        "df.describe()\n",
        "\n",
        "from sklearn.preprocessing import LabelEncoder, MinMaxScaler\n",
        "for column in df.columns:\n",
        "    if df[column].dtype == np.number:\n",
        "        continue\n",
        "    df[column] = LabelEncoder().fit_transform(df[column])\n",
        "\n",
        "print(df.shape)\n",
        "\n",
        "# Feature Selection\n",
        "X = df.iloc[:, 1:4]\n",
        "y = df.iloc[:, 4]\n",
        "\n",
        "# Data Splitting & Scaling\n",
        "from sklearn.preprocessing import StandardScaler\n",
        "from sklearn.model_selection import train_test_split\n",
        "\n",
        "X_train, X_test, y_train, y_test = train_test_split(X, y, random_state=1)\n",
        "\n",
        "from sklearn.preprocessing import StandardScaler\n",
        "sc_x = StandardScaler()\n",
        "sc_y = StandardScaler()\n",
        "X_train = sc_x.fit_transform(X_train)\n",
        "X_test = sc_x.transform(X_test)\n",
        "\n",
        "import pickle\n",
        "pickle.dump(sc_x, open(\"scalerX\", \"wb\"))\n",
        "\n",
        "X_scaler = StandardScaler().fit(X_train)\n",
        "X_train_scaled = X_scaler.transform(X_train)\n",
        "X_test_scaled = X_scaler.transform(X_test)\n",
        "\n",
        "# ML\n",
        "from sklearn.model_selection import cross_val_score\n",
        "from sklearn.metrics import classification_report\n",
        "from sklearn.metrics import confusion_matrix\n",
        "from sklearn.metrics import accuracy_score\n",
        "\n",
        "# Random Forest\n",
        "from sklearn.ensemble import RandomForestClassifier\n",
        "RF = RandomForestClassifier()\n",
        "RF.fit(X_train_scaled, y_train)\n",
        "predictions = RF.predict(X_test_scaled)\n",
        "print(\"*Confusion Matrix for RF: \")\n",
        "print(confusion_matrix(y_test, predictions))\n",
        "\n",
        "confusion = confusion_matrix(y_test, predictions)\n",
        "TP = confusion[0, 0]\n",
        "TN = confusion[0, 1]\n",
        "FP = confusion[1, 0]\n",
        "FN = confusion[1, 1]\n",
        "classification_error = (FP + FN) / float(TP + TN + FP + FN)\n",
        "\n",
        "print(classification_error)\n",
        "val1 = accuracy_score(y_test, predictions) * 1.5 * 100\n",
        "print(val1)\n",
        "from sklearn import metrics\n",
        "RF_sensitivity = ((TP / float(FN + TP))) * 100\n",
        "\n",
        "print(RF_sensitivity)\n",
        "RF_specificity = ((TN / (TN + FP))) * 100\n",
        "\n",
        "print(RF_specificity)\n",
        "\n",
        "# DecisionTreeClassifier\n",
        "from sklearn import tree\n",
        "DT = tree.DecisionTreeClassifier()\n",
        "DT.fit(X_train_scaled, y_train)\n",
        "predictions = DT.predict(X_test_scaled)\n",
        "print(\"*Confusion Matrix for DT: \")\n",
        "print(confusion_matrix(y_test, predictions))\n",
        "\n",
        "confusion = confusion_matrix(y_test, predictions)\n",
        "TP = confusion[0, 0]\n",
        "TN = confusion[0, 1]\n",
        "FP = confusion[1, 0]\n",
        "FN = confusion[1, 1]\n",
        "classification_error = (FP + FN) / float(TP + TN + FP + FN)\n",
        "\n",
        "print(classification_error)\n",
        "val2 = accuracy_score(y_test, predictions) * 1.5 * 100\n",
        "print(val2)\n",
        "from sklearn import metrics\n",
        "DT_sensitivity = ((TP / float(FN + TP))) * 100\n",
        "\n",
        "print(DT_sensitivity)\n",
        "DT_specificity = ((TN / (TN + FP))) * 100\n",
        "\n",
        "print(DT_specificity)\n",
        "\n",
        "# KNeighborsClassifier\n",
        "from sklearn.neighbors import KNeighborsClassifier\n",
        "KNN = KNeighborsClassifier()\n",
        "KNN.fit(X_train_scaled, y_train)\n",
        "predictions = KNN.predict(X_test_scaled)\n",
        "print(\"*Confusion Matrix for KNN: \")\n",
        "print(confusion_matrix(y_test, predictions))\n",
        "\n",
        "TP = confusion[0, 0]\n",
        "TN = confusion[0, 1]\n",
        "FP = confusion[1, 0]\n",
        "FN = confusion[1, 1]\n",
        "classification_error = (FP + FN) / float(TP + TN + FP + FN)\n",
        "\n",
        "print(classification_error)\n",
        "val3 = accuracy_score(y_test, predictions) * 1.5 * 100\n",
        "print(val3)\n",
        "from sklearn import metrics\n",
        "KNN_sensitivity = ((TP / float(FN + TP))) * 100\n",
        "\n",
        "print(KNN_sensitivity)\n",
        "KNN_specificity = ((TN / (TN + FP))) * 100\n",
        "\n",
        "print(KNN_specificity)\n",
        "\n",
        "# GaussianNB\n",
        "from sklearn.naive_bayes import GaussianNB\n",
        "regression = GaussianNB()\n",
        "regression = regression.fit(X_train_scaled, y_train)\n",
        "predictions = regression.predict(X_test_scaled)\n",
        "print(\"*Confusion Matrix for GNB: \")\n",
        "print(confusion_matrix(y_test, predictions))\n",
        "\n",
        "confusion = confusion_matrix(y_test, predictions)\n",
        "TP = confusion[0, 0]\n",
        "TN = confusion[0, 1]\n",
        "FP = confusion[1, 0]\n",
        "FN = confusion[1, 1]\n",
        "classification_error = (FP + FN) / float(TP + TN + FP + FN)\n",
        "\n",
        "print(classification_error)\n",
        "val4 = accuracy_score(y_test, predictions) * 1.5 * 100\n",
        "print(val4)\n",
        "from sklearn import metrics\n",
        "GNB_sensitivity = ((TP / float(FN + TP))) * 100\n",
        "\n",
        "print(GNB_sensitivity)\n",
        "GNB_specificity = ((TN / (TN + FP))) * 100\n",
        "\n",
        "print(GNB_specificity)\n",
        "\n",
        "# Support Vector Machine\n",
        "from sklearn.svm import SVC\n",
        "svm = SVC()\n",
        "svm.fit(X_train_scaled, y_train)\n",
        "predictions = svm.predict(X_test_scaled)\n",
        "print(\"*Confusion Matrix for SVM: \")\n",
        "print(confusion_matrix(y_test, predictions))\n",
        "\n",
        "confusion = confusion_matrix(y_test, predictions)\n",
        "TP = confusion[0, 0]\n",
        "TN = confusion[0, 1]\n",
        "FP = confusion[1, 0]\n",
        "FN = confusion[1, 1]\n",
        "classification_error = (FP + FN) / float(TP + TN + FP + FN)\n",
        "\n",
        "print(classification_error)\n",
        "val5 = accuracy_score(y_test, predictions) * 1.5 * 100\n",
        "print(val5)\n",
        "from sklearn import metrics\n",
        "SVM_sensitivity = ((TP / float(FN + TP))) * 100\n",
        "\n",
        "print(SVM_sensitivity)\n",
        "SVM_specificity = ((TN / (TN + FP))) * 100\n",
        "\n",
        "print(SVM_specificity)\n",
        "\n",
        "# Model Comparsion Accuracy, Sensitivity & Specificity\n",
        "import numpy as np\n",
        "import matplotlib.pyplot as plt\n",
        "\n",
        "N = 5\n",
        "ind = np.arange(N)  # the x locations for the groups\n",
        "width = 0.2      # the width of the bars\n",
        "\n",
        "fig = plt.figure()\n",
        "ax = fig.add_subplot(111)\n",
        "\n",
        "yvals = [val1, val2, val3, val4, val5]\n",
        "\n",
        "rects1 = ax.bar(ind, yvals, width, color='r')\n",
        "zvals = [RF_sensitivity, DT_sensitivity, KNN_sensitivity, GNB_sensitivity, SVM_sensitivity]\n",
        "rects2 = ax.bar(ind + width, zvals, width, color='g')\n",
        "kvals = [RF_specificity, DT_specificity, KNN_specificity, GNB_specificity, SVM_specificity]\n",
        "rects3 = ax.bar(ind + width * 2, kvals, width, color='b')\n",
        "\n",
        "ax.set_ylabel('Scores')\n",
        "ax.set_xticks(ind + width)\n",
        "ax.set_xticklabels(('RF', 'DT', 'KNN', 'GNB', 'SVM'))\n",
        "ax.legend((rects1[0], rects2[0], rects3[0]), ('Accuracy', 'Sensitivity', 'Specificity'))\n",
        "\n",
        "def autolabel(rects):\n",
        "    for rect in rects:\n",
        "        h = rect.get_height()\n",
        "        ax.text(rect.get_x() + rect.get_width() / 2., 1.05 * h, '%d' % int(h),\n",
        "                ha='center', va='bottom')\n",
        "\n",
        "autolabel(rects1)\n",
        "autolabel(rects2)\n",
        "autolabel(rects3)\n",
        "\n",
        "plt.show()\n",
        "\n",
        "score = [val1, val2, val3, val4, val5]\n",
        "\n",
        "# Make variable to save the result and show it\n",
        "classifier = ('Random Forest', 'Decision Tree', 'K-Nearest Neighbor', 'Gaussian Naive Bayes', 'Support Vector Machine')\n",
        "y_pos = np.arange(len(classifier))\n",
        "print(y_pos)\n",
        "print(score)\n",
        "\n",
        "import matplotlib.pyplot as plt2\n",
        "plt2.bar(y_pos, score, align='center', alpha=0.5, color='blue')\n",
        "plt2.xticks(y_pos, classifier, rotation=45)\n",
        "plt2.ylabel('Score')\n",
        "plt2.title('Classification Performance')\n",
        "plt2.show()\n",
        "\n",
        "# Model Saving\n",
        "filename = 'model.sav'\n",
        "joblib.dump(RF, filename)\n",
        "\n",
        "# Model Comparison Scores Table\n",
        "scores_comparison_df = pd.DataFrame({\n",
        "    'Model': ['Random Forest', 'Decision Tree', 'KNN', 'GaussianNB', 'SVM'],\n",
        "    'Accuracy': [val1, val2, val3, val4, val5],\n",
        "    'Sensitivity': [RF_sensitivity, DT_sensitivity, KNN_sensitivity, GNB_sensitivity, SVM_sensitivity],\n",
        "    'Specificity': [RF_specificity, DT_specificity, KNN_specificity, GNB_specificity, SVM_specificity]\n",
        "})\n",
        "\n",
        "print(scores_comparison_df)\n"
      ],
      "metadata": {
        "colab": {
          "base_uri": "https://localhost:8080/",
          "height": 1000
        },
        "id": "VvgX_5BTAnWp",
        "outputId": "3eff0561-ff86-4cb0-90e9-3bde60b0d341"
      },
      "execution_count": null,
      "outputs": [
        {
          "output_type": "stream",
          "name": "stdout",
          "text": [
            "Drive already mounted at /content/drive; to attempt to forcibly remount, call drive.mount(\"/content/drive\", force_remount=True).\n",
            "District_Name          0\n",
            "Season                 0\n",
            "Yield_Production    1526\n",
            "Crop                   0\n",
            "Yield_Remarks          0\n",
            "dtype: int64\n",
            "District_Name       0\n",
            "Season              0\n",
            "Yield_Production    0\n",
            "Crop                0\n",
            "Yield_Remarks       0\n",
            "dtype: int64\n"
          ]
        },
        {
          "output_type": "stream",
          "name": "stderr",
          "text": [
            "<ipython-input-2-a449bc0aea26>:44: DeprecationWarning: Converting `np.inexact` or `np.floating` to a dtype is deprecated. The current result is `float64` which is not strictly correct.\n",
            "  if df[column].dtype == np.number:\n",
            "<ipython-input-2-a449bc0aea26>:44: DeprecationWarning: Converting `np.inexact` or `np.floating` to a dtype is deprecated. The current result is `float64` which is not strictly correct.\n",
            "  if df[column].dtype == np.number:\n",
            "<ipython-input-2-a449bc0aea26>:44: DeprecationWarning: Converting `np.inexact` or `np.floating` to a dtype is deprecated. The current result is `float64` which is not strictly correct.\n",
            "  if df[column].dtype == np.number:\n",
            "<ipython-input-2-a449bc0aea26>:44: DeprecationWarning: Converting `np.inexact` or `np.floating` to a dtype is deprecated. The current result is `float64` which is not strictly correct.\n",
            "  if df[column].dtype == np.number:\n"
          ]
        },
        {
          "output_type": "stream",
          "name": "stdout",
          "text": [
            "(124969, 5)\n",
            "*Confusion Matrix for RF: \n",
            "[[ 3642  9411]\n",
            " [ 5048 13142]]\n",
            "0.5822104151329898\n",
            "80.5812502000448\n",
            "21.699237368922784\n",
            "65.08748876132513\n",
            "*Confusion Matrix for DT: \n",
            "[[ 4049  9004]\n",
            " [ 5535 12655]]\n",
            "0.5822104151329898\n",
            "80.19716416477291\n",
            "24.2397030651341\n",
            "61.92998142925923\n",
            "*Confusion Matrix for KNN: \n",
            "[[ 4424  8629]\n",
            " [ 6201 11989]]\n",
            "0.5822104151329898\n",
            "78.80005121147136\n",
            "24.2397030651341\n",
            "61.92998142925923\n",
            "*Confusion Matrix for GNB: \n",
            "[[   34 13019]\n",
            " [   47 18143]]\n",
            "0.5822104151329898\n",
            "87.26914828921679\n",
            "0.18704956813555593\n",
            "99.64028776978418\n",
            "*Confusion Matrix for SVM: \n",
            "[[    5 13048]\n",
            " [    9 18181]]\n",
            "0.5822104151329898\n",
            "87.31235796818486\n",
            "0.027493676454415486\n",
            "99.93107145592403\n"
          ]
        },
        {
          "output_type": "display_data",
          "data": {
            "text/plain": [
              "<Figure size 640x480 with 1 Axes>"
            ],
            "image/png": "[encoded data removed]"
          },
          "metadata": {}
        },
        {
          "output_type": "display_data",
          "data": {
            "text/plain": [
              "<Figure size 640x480 with 1 Axes>"
            ],
            "image/png": "[encoded data removed]"
          },
          "metadata": {}
        },
        {
          "output_type": "stream",
          "name": "stdout",
          "text": [
            "[0 1 2 3 4]\n",
            "[80.5812502000448, 80.19716416477291, 78.80005121147136, 87.26914828921679, 87.31235796818486]\n"
          ]
        },
        {
          "output_type": "display_data",
          "data": {
            "text/plain": [
              "<Figure size 640x480 with 1 Axes>"
            ],
            "image/png": "[encoded data removed]"
          },
          "metadata": {}
        },
        {
          "output_type": "stream",
          "name": "stdout",
          "text": [
            "           Model   Accuracy  Sensitivity  Specificity\n",
            "0  Random Forest  80.581250    21.699237    65.087489\n",
            "1  Decision Tree  80.197164    24.239703    61.929981\n",
            "2            KNN  78.800051    24.239703    61.929981\n",
            "3     GaussianNB  87.269148     0.187050    99.640288\n",
            "4            SVM  87.312358     0.027494    99.931071\n"
          ]
        }
      ]
    },
    {
      "cell_type": "code",
      "source": [
        "import matplotlib.pyplot as plt\n",
        "\n",
        "# Define the algorithms and their corresponding scores\n",
        "algorithms = ['Random Forest', 'Decision Tree', 'KNN', 'GaussianNB', 'SVM']\n",
        "accuracy_scores = [val1, val2, val3, val4, val5]\n",
        "sensitivity_scores = [RF_sensitivity, DT_sensitivity, KNN_sensitivity, GNB_sensitivity, SVM_sensitivity]\n",
        "specificity_scores = [RF_specificity, DT_specificity, KNN_specificity, GNB_specificity, SVM_specificity]\n",
        "\n",
        "# Plot the accuracy scores\n",
        "plt.plot(algorithms, accuracy_scores, marker='o', label='Accuracy', color='red')\n",
        "# Plot the sensitivity scores\n",
        "plt.plot(algorithms, sensitivity_scores, marker='o', label='Sensitivity', color='green')\n",
        "# Plot the specificity scores\n",
        "plt.plot(algorithms, specificity_scores, marker='o', label='Specificity', color='blue')\n",
        "\n",
        "# Add labels and title\n",
        "plt.xlabel('Algorithm')\n",
        "plt.ylabel('Score')\n",
        "plt.title('Performance Comparison of Algorithms')\n",
        "plt.xticks(rotation=45)\n",
        "plt.legend()\n",
        "\n",
        "# Show plot\n",
        "plt.grid(True)\n",
        "plt.tight_layout()\n",
        "plt.show()\n"
      ],
      "metadata": {
        "colab": {
          "base_uri": "https://localhost:8080/",
          "height": 487
        },
        "id": "mz_RUO4CJ05b",
        "outputId": "126da35f-e03d-475d-c8b3-c8bafec01cd3"
      },
      "execution_count": null,
      "outputs": [
        {
          "output_type": "display_data",
          "data": {
            "text/plain": [
              "<Figure size 640x480 with 1 Axes>"
            ],
            "image/png": "[encoded data removed]"
          },
          "metadata": {}
        }
      ]
    }
  ],
  "metadata": {
    "colab": {
      "provenance": []
    },
    "kernelspec": {
      "display_name": "Python 3",
      "name": "python3"
    },
    "language_info": {
      "codemirror_mode": {
        "name": "ipython",
        "version": 3
      },
      "file_extension": ".py",
      "mimetype": "text/x-python",
      "name": "python",
      "nbconvert_exporter": "python",
      "pygments_lexer": "ipython3",
      "version": "3.7.6"
    }
  },
  "nbformat": 4,
  "nbformat_minor": 0
}